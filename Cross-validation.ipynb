{
 "cells": [
  {
   "cell_type": "markdown",
   "metadata": {},
   "source": [
    "# Кросс-валидация"
   ]
  },
  {
   "cell_type": "code",
   "execution_count": 2,
   "metadata": {
    "collapsed": false
   },
   "outputs": [],
   "source": [
    "from sklearn import model_selection, datasets\n",
    "import numpy as np"
   ]
  },
  {
   "cell_type": "markdown",
   "metadata": {},
   "source": [
    "## Разовое разбиение данных на обучение и тест с помощью train_test_split"
   ]
  },
  {
   "cell_type": "code",
   "execution_count": 3,
   "metadata": {
    "collapsed": true
   },
   "outputs": [],
   "source": [
    "#Загрузим готовый датасет с цветками ириса\n",
    "iris = datasets.load_iris()"
   ]
  },
  {
   "cell_type": "code",
   "execution_count": 5,
   "metadata": {
    "collapsed": true
   },
   "outputs": [],
   "source": [
    "#Принимает: набор данных iris.data, набор меток классов iris.target; 30% на объектов на тестовую выборку и 70 на обучающую\n",
    "train_data, test_data, train_labels, test_labels = model_selection.train_test_split(iris.data, iris.target, test_size=0.3)"
   ]
  },
  {
   "cell_type": "code",
   "execution_count": 7,
   "metadata": {
    "collapsed": false
   },
   "outputs": [
    {
     "data": {
      "text/plain": [
       "0.3"
      ]
     },
     "execution_count": 7,
     "metadata": {},
     "output_type": "execute_result"
    }
   ],
   "source": [
    "#Убедимся, что тестовая выборка действительно составляет 0,3 от всех данных\n",
    "float(len(test_labels))/len(iris.data)"
   ]
  },
  {
   "cell_type": "code",
   "execution_count": 14,
   "metadata": {
    "collapsed": false
   },
   "outputs": [
    {
     "name": "stdout",
     "output_type": "stream",
     "text": [
      "Размер обучающей выборки: 105 объектов \n",
      " Размер тестовой выборки: 45 объектов\n"
     ]
    }
   ],
   "source": [
    "#Смотрим на размеры выборок для обучения и для тестирования\n",
    "print('Размер обучающей выборки: {} объектов \\n Размер тестовой выборки: {} объектов'.format(len(train_data), len(test_data)))"
   ]
  },
  {
   "cell_type": "code",
   "execution_count": 16,
   "metadata": {
    "collapsed": false
   },
   "outputs": [
    {
     "name": "stdout",
     "output_type": "stream",
     "text": [
      "Обучающая выборка: \n",
      " [[ 7.3  2.9  6.3  1.8]\n",
      " [ 6.8  3.2  5.9  2.3]\n",
      " [ 5.2  3.5  1.5  0.2]\n",
      " [ 4.8  3.   1.4  0.3]\n",
      " [ 5.5  3.5  1.3  0.2]]\n",
      "\n",
      "Тестовая выборка:  [[ 5.4  3.9  1.3  0.4]\n",
      " [ 6.8  3.   5.5  2.1]\n",
      " [ 5.7  2.8  4.5  1.3]\n",
      " [ 6.5  3.   5.2  2. ]\n",
      " [ 5.   3.3  1.4  0.2]]\n"
     ]
    }
   ],
   "source": [
    "print('Обучающая выборка:\\n', train_data[:5])\n",
    "print('\\nТестовая выборка: ', test_data[:5])"
   ]
  },
  {
   "cell_type": "code",
   "execution_count": 21,
   "metadata": {
    "collapsed": false
   },
   "outputs": [
    {
     "name": "stdout",
     "output_type": "stream",
     "text": [
      "Метки классов на обучающей выборке:\n",
      " [2 2 0 0 0 0 0 2 2 1 0 1 2 2 0 2 2 1 2 1 2 2 0 1 0 1 1 1 2 0 2 2 1 0 0 1 2\n",
      " 0 1 1 0 2 2 2 1 2 2 1 2 1 0 0 1 0 0 1 2 2 1 1 1 2 1 0 2 0 0 2 0 1 0 0 0 0\n",
      " 2 1 2 2 2 2 2 1 1 1 0 1 2 1 1 1 2 1 0 0 1 0 1 2 0 0 0 0 1 2 0]\n",
      "\n",
      "Метки классов на тестовой выборке:  [0 2 1 2 0 0 2 1 1 2 1 0 0 1 0 2 1 1 2 1 2 0 0 0 0 0 2 0 1 0 2 2 1 1 2 0 1\n",
      " 0 1 2 2 1 1 2 1]\n"
     ]
    }
   ],
   "source": [
    "print('Метки классов на обучающей выборке:\\n', train_labels)\n",
    "print('\\nМетки классов на тестовой выборке: ', test_labels)"
   ]
  },
  {
   "cell_type": "markdown",
   "metadata": {},
   "source": [
    "## Стратегии проведения кросс-валидации"
   ]
  },
  {
   "cell_type": "markdown",
   "metadata": {},
   "source": [
    "Валидация нужна для того, чтобы понять, насколько успешно можно применять ту или иную модель классификации\n",
    "\n",
    "1) $\\textbf{Cтратегия KFold}$\n",
    "\n",
    "Используется в ситуациях, где целью является предсказание, и хотелось бы оценить, насколько предсказывающая модель способна работать на практике.\n",
    "\n",
    "В этом случае исходый набор данных разбивается на $k$ одинаковых по размеру блоков. Из $k$ блоков один оставляется для тестирования модели, а оставшиеся $(k-1)$ блоков используются как тренировочный набор. Процесс повторяется $k$ раз, и каждый из блоков используется один раз как тестовый набор. Получаются $k$ результатов, по одному на каждый блок, они усредняются или комбинируются каким-либо другим способом и выдают одну оценку\n",
    "\n",
    "В качестве аргументов принимается: \n",
    "- количество объектов, по которым происходит разбиение;\n",
    "- количество блоков (Fold'ов), которое нам нужно\n",
    "\n",
    "Возвращает: индексы из обучения, индексы из теста, с помощью которых далее можно самостоятельно разбить выборку"
   ]
  },
  {
   "cell_type": "code",
   "execution_count": 24,
   "metadata": {
    "collapsed": false
   },
   "outputs": [
    {
     "name": "stdout",
     "output_type": "stream",
     "text": [
      "[2 3 4 5 6 7 8 9] [0 1]\n",
      "[0 1 4 5 6 7 8 9] [2 3]\n",
      "[0 1 2 3 6 7 8 9] [4 5]\n",
      "[0 1 2 3 4 5 8 9] [6 7]\n",
      "[0 1 2 3 4 5 6 7] [8 9]\n"
     ]
    }
   ],
   "source": [
    "# Хотим разбить 10 объектов на 5 Fold'ов\n",
    "for train_indices, test_indices in cross_validation.KFold(10, n_folds=5):\n",
    "    print(train_indices, test_indices)\n",
    "\n",
    "# Каждый fold содержит 2 объекта -> обучающая выборка состоит из 8 объектов, тестовая - из двух."
   ]
  },
  {
   "cell_type": "code",
   "execution_count": 33,
   "metadata": {
    "collapsed": false
   },
   "outputs": [
    {
     "name": "stdout",
     "output_type": "stream",
     "text": [
      "[0 1 2 3 7] [4 5 6 8 9]\n",
      "[4 5 6 8 9] [0 1 2 3 7]\n"
     ]
    }
   ],
   "source": [
    "#Если хотим перемешать элементы, надо указать shuffle=True\n",
    "for train_indices, test_indices in cross_validation.KFold(10, n_folds=2, shuffle=True):\n",
    "    print(train_indices, test_indices)"
   ]
  },
  {
   "cell_type": "code",
   "execution_count": 31,
   "metadata": {
    "collapsed": false
   },
   "outputs": [
    {
     "name": "stdout",
     "output_type": "stream",
     "text": [
      "[1 3 5 7 8] [0 2 4 6 9]\n",
      "[0 2 4 6 9] [1 3 5 7 8]\n"
     ]
    }
   ],
   "source": [
    "#Чтобы зафиксировать случайное разбиение, надо применить random_state=1\n",
    "for train_indices, test_indices in cross_validation.KFold(10, n_folds=2, shuffle=True, random_state=1):\n",
    "    print(train_indices, test_indices)"
   ]
  }
 ],
 "metadata": {
  "kernelspec": {
   "display_name": "Python 3",
   "language": "python",
   "name": "python3"
  },
  "language_info": {
   "codemirror_mode": {
    "name": "ipython",
    "version": 3
   },
   "file_extension": ".py",
   "mimetype": "text/x-python",
   "name": "python",
   "nbconvert_exporter": "python",
   "pygments_lexer": "ipython3",
   "version": "3.5.2"
  }
 },
 "nbformat": 4,
 "nbformat_minor": 1
}
