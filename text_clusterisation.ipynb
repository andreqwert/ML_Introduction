{
 "cells": [
  {
   "cell_type": "markdown",
   "metadata": {},
   "source": [
    "# Кластеризация текстов"
   ]
  },
  {
   "cell_type": "code",
   "execution_count": 25,
   "metadata": {},
   "outputs": [],
   "source": [
    "import warnings\n",
    "warnings.filterwarnings(\"ignore\")"
   ]
  },
  {
   "cell_type": "code",
   "execution_count": 2,
   "metadata": {},
   "outputs": [
    {
     "name": "stdout",
     "output_type": "stream",
     "text": [
      "['alt.atheism', 'comp.graphics', 'comp.os.ms-windows.misc', 'comp.sys.ibm.pc.hardware', 'comp.sys.mac.hardware', 'comp.windows.x', 'misc.forsale', 'rec.autos', 'rec.motorcycles', 'rec.sport.baseball', 'rec.sport.hockey', 'sci.crypt', 'sci.electronics', 'sci.med', 'sci.space', 'soc.religion.christian', 'talk.politics.guns', 'talk.politics.mideast', 'talk.politics.misc', 'talk.religion.misc']\n"
     ]
    }
   ],
   "source": [
    "from sklearn.datasets import fetch_20newsgroups\n",
    "\n",
    "# Посмотрим на темы текстов из стандартного датасета, которыми можно воспользоваться,\n",
    "# чтоб проверить качество работы алгоритма\n",
    "train_all = fetch_20newsgroups(subset='train')\n",
    "print(train_all.target_names)"
   ]
  },
  {
   "cell_type": "code",
   "execution_count": 3,
   "metadata": {},
   "outputs": [],
   "source": [
    "# Взяли тексты с тремя абсолютно разными темами.\n",
    "simple_dataset = fetch_20newsgroups(\n",
    "        subset='train',\n",
    "        categories=['comp.sys.mac.hardware', 'soc.religion.christian', 'rec.sport.hockey'])"
   ]
  },
  {
   "cell_type": "code",
   "execution_count": 4,
   "metadata": {},
   "outputs": [
    {
     "name": "stdout",
     "output_type": "stream",
     "text": [
      "From: erik@cheshire.oxy.edu (Erik Adams)\n",
      "Subject: HELP!!  My Macintosh \"luggable\" has lines on its screen!\n",
      "Organization: Occidental College, Los Angeles, CA 90041 USA.\n",
      "Distribution: comp\n",
      "Lines: 20\n",
      "\n",
      "Okay, I don't use it very much, but I would like for it to keep working\n",
      "correctly, at least as long as Apple continues to make System software\n",
      "that will run on it, if slowly :-)\n",
      "\n",
      "Here is the problem:  When the screen is tilted too far back, vertical\n",
      "lines appear on the screen.  They are every 10 pixels or so, and seem\n",
      "to be affected somewhat by opening windows and pulling down menus.\n",
      "It looks to a semi-technical person like there is a loose connection\n",
      "between the screen and the rest of the computer.\n",
      "\n",
      "I am open to suggestions that do not involve buying a new computer,\n",
      "or taking this one to the shop.  I would also like to not have\n",
      "to buy one of Larry Pina's books.  I like Larry, but I'm not sure\n",
      "I feel strongly enough about the computer to buy a service manual\n",
      "for it.\n",
      "\n",
      "On a related note:  what does the monitor connector connect to?\n",
      "\n",
      "Erik\n",
      "\n",
      "\n"
     ]
    }
   ],
   "source": [
    "print(simple_dataset.data[0]) # первый элемент"
   ]
  },
  {
   "cell_type": "code",
   "execution_count": 5,
   "metadata": {},
   "outputs": [
    {
     "data": {
      "text/plain": [
       "array([0, 0, 1, ..., 0, 1, 2])"
      ]
     },
     "execution_count": 5,
     "metadata": {},
     "output_type": "execute_result"
    }
   ],
   "source": [
    "simple_dataset.target # метки классов"
   ]
  },
  {
   "cell_type": "code",
   "execution_count": 6,
   "metadata": {},
   "outputs": [
    {
     "name": "stdout",
     "output_type": "stream",
     "text": [
      "From: dlecoint@garnet.acns.fsu.edu (Darius_Lecointe)\n",
      "Subject: Re: Sabbath Admissions 5of5\n",
      "Organization: Florida State University\n",
      "Lines: 21\n",
      "\n",
      "I find it interesting that cls never answered any of the questions posed. \n",
      "Then he goes on the make statements which make me shudder.  He has\n",
      "established a two-tiered God.  One set of rules for the Jews (his people)\n",
      "and another set for the saved Gentiles (his people).  Why would God\n",
      "discriminate?  Does the Jew who accepts Jesus now have to live under the\n",
      "Gentile rules.\n",
      "\n",
      "God has one set of rules for all his people.  Paul was never against the\n",
      "law.  In fact he says repeatedly that faith establishes rather that annuls\n",
      "the law.  Paul's point is germane to both Jews and Greeks.  The Law can\n",
      "never be used as an instrument of salvation.  And please do not combine\n",
      "the ceremonial and moral laws in one.\n",
      "\n",
      "In Matt 5:14-19 Christ plainly says what He came to do and you say He was\n",
      "only saying that for the Jews's benefit.  Your Christ must be a\n",
      "politician, speaking from both sides of His mouth.  As Paul said, \"I have\n",
      "not so learned Christ.\"  Forget all the theology, just do what Jesus says.\n",
      " Your excuses will not hold up in a court of law on earth, far less in\n",
      "God's judgement hall.\n",
      "\n",
      "Darius\n",
      "\n"
     ]
    }
   ],
   "source": [
    "print(simple_dataset.data[-1]) # последний из текстов"
   ]
  },
  {
   "cell_type": "code",
   "execution_count": 9,
   "metadata": {},
   "outputs": [
    {
     "name": "stdout",
     "output_type": "stream",
     "text": [
      "1777\n"
     ]
    }
   ],
   "source": [
    "print(len(simple_dataset.data))   # количество объектов в выборке"
   ]
  },
  {
   "cell_type": "markdown",
   "metadata": {},
   "source": [
    "### Призаки\n",
    "\n",
    "Вычислим частоты слов."
   ]
  },
  {
   "cell_type": "code",
   "execution_count": 10,
   "metadata": {},
   "outputs": [],
   "source": [
    "from sklearn.feature_extraction.text import CountVectorizer, TfidfVectorizer"
   ]
  },
  {
   "cell_type": "code",
   "execution_count": 26,
   "metadata": {},
   "outputs": [
    {
     "name": "stdout",
     "output_type": "stream",
     "text": [
      "(1777, 333)\n"
     ]
    }
   ],
   "source": [
    "vectorizer = TfidfVectorizer(max_df=500, min_df=100) # задали максимальную и минимальную документную частоту\n",
    "\n",
    "\"\"\"Не хотим видеть слова, которые встречаются более чем в 500 документах и менее чем в 10, чтобы количество кластеров\n",
    "было ограничено\"\"\"\n",
    "matrix = vectorizer.fit_transform(simple_dataset.data)\n",
    "print(matrix.shape) # 3767 частот на 1777 объектах"
   ]
  },
  {
   "cell_type": "markdown",
   "metadata": {},
   "source": [
    "### Метод $k$-средних"
   ]
  },
  {
   "cell_type": "code",
   "execution_count": 28,
   "metadata": {},
   "outputs": [],
   "source": [
    "from sklearn.cluster import KMeans"
   ]
  },
  {
   "cell_type": "code",
   "execution_count": 29,
   "metadata": {},
   "outputs": [
    {
     "name": "stdout",
     "output_type": "stream",
     "text": [
      "[1 1 0 ... 1 0 2]\n"
     ]
    }
   ],
   "source": [
    "model = KMeans(n_clusters=3, random_state=42)\n",
    "preds = model.fit_predict(matrix.toarray())\n",
    "print(preds) # прогнозы"
   ]
  },
  {
   "cell_type": "code",
   "execution_count": 30,
   "metadata": {},
   "outputs": [
    {
     "name": "stdout",
     "output_type": "stream",
     "text": [
      "[0 0 1 ... 0 1 2]\n"
     ]
    }
   ],
   "source": [
    "print(simple_dataset.target) # посмотрим, которые ответы должны были получится"
   ]
  },
  {
   "cell_type": "code",
   "execution_count": 42,
   "metadata": {},
   "outputs": [
    {
     "name": "stdout",
     "output_type": "stream",
     "text": [
      "\n",
      "Угадываем кластер с вероятностью: \n",
      "0.9296567248171075\n"
     ]
    }
   ],
   "source": [
    "# Не угадали с тем, как пометить кластер. Сделаем отображение, чтобы двойка перешла в единицу, а единица - в двойку\n",
    "\"\"\"\n",
    "Прим. моё: вроде как тут и в последующих местах должно быть другое соответствие. \n",
    "Также интересен факт, что в видео указан не вероятность правильных угадывания, а вероятность ошибок. \n",
    "Нигде в .ipynb я не стал делать намеренных расхождений с видео, однако они могут быть нужны!\n",
    "\"\"\"\n",
    "mapping = {2: 1, 1: 2, 0: 0}\n",
    "mapped_preds = [mapping[pred] for pred in preds]\n",
    "\n",
    "\"\"\"КЛАСТЕРИЗАЦИЯ\"\"\"\n",
    "print('\\nУгадываем кластер с вероятностью: ')\n",
    "print(float(sum(mapped_preds != simple_dataset.target)) / len(simple_dataset.target))"
   ]
  },
  {
   "cell_type": "code",
   "execution_count": 44,
   "metadata": {},
   "outputs": [
    {
     "name": "stdout",
     "output_type": "stream",
     "text": [
      "\n",
      "Ответы при классификации (обучении с учителем): \n",
      "0.9515973631072799\n"
     ]
    }
   ],
   "source": [
    "# Сравним ответы с классификатором, который знает ответы, которые должны получиться\n",
    "\n",
    "from sklearn.linear_model import LogisticRegression\n",
    "from sklearn.cross_validation import cross_val_score\n",
    "clf = LogisticRegression()\n",
    "\n",
    "\"\"\"КЛАССИФИКАЦИЯ\"\"\"\n",
    "print('\\nОтветы при классификации (обучении с учителем): ')\n",
    "print(cross_val_score(clf, matrix, simple_dataset.target).mean())"
   ]
  },
  {
   "cell_type": "markdown",
   "metadata": {},
   "source": [
    "## Более сложная выборка\n",
    "\n",
    "Попробуем взять выборку текстов только про компьютеры, но с тремя *под*классами: hardware, misc, graphics"
   ]
  },
  {
   "cell_type": "code",
   "execution_count": 47,
   "metadata": {},
   "outputs": [],
   "source": [
    "dataset = fetch_20newsgroups(\n",
    "        subset='train',\n",
    "        categories=['comp.sys.mac.hardware', 'comp.os.ms-windows.misc', 'comp.graphics'])"
   ]
  },
  {
   "cell_type": "markdown",
   "metadata": {},
   "source": [
    "Попробуем сразу для кластеризации применим метод $k$-средних:"
   ]
  },
  {
   "cell_type": "code",
   "execution_count": 49,
   "metadata": {},
   "outputs": [
    {
     "name": "stdout",
     "output_type": "stream",
     "text": [
      "\n",
      "Предсказания при кластеризации:  [0 0 1 ... 0 1 0]\n",
      "Ответы при классификации (обучении с учителем):  [2 1 1 ... 2 0 2]\n"
     ]
    }
   ],
   "source": [
    "matrix = vectorizer.fit_transform(dataset.data)\n",
    "model = KMeans(n_clusters=3, random_state=42)\n",
    "preds = model.fit_predict(matrix.toarray())\n",
    "\n",
    "print('\\nПредсказания при кластеризации: ', preds)\n",
    "print('Ответы при классификации (обучении с учителем): ', dataset.target)"
   ]
  },
  {
   "cell_type": "code",
   "execution_count": 53,
   "metadata": {},
   "outputs": [
    {
     "name": "stdout",
     "output_type": "stream",
     "text": [
      "\n",
      "Угадываем кластер с вероятностью: \n",
      "0.6103822019395322\n"
     ]
    }
   ],
   "source": [
    "mapping = {2: 0, 1: 1, 0: 2} # сопоставляем полученные кластеры с правильными ответами\n",
    "mapped_preds = [mapping[pred] for pred in preds]\n",
    "\n",
    "\"\"\"КЛАСТЕРИЗАЦИЯ\"\"\"\n",
    "print('\\nУгадываем кластер с вероятностью: ')\n",
    "print(float(sum(mapped_preds != dataset.target)) / len(dataset.target))"
   ]
  },
  {
   "cell_type": "code",
   "execution_count": 54,
   "metadata": {},
   "outputs": [
    {
     "name": "stdout",
     "output_type": "stream",
     "text": [
      "\n",
      "Ответы при классификации (обучении с учителем): \n",
      "0.8014748354370996\n"
     ]
    }
   ],
   "source": [
    "clf = LogisticRegression()\n",
    "\n",
    "\"\"\"КЛАССИФИКАЦИЯ\"\"\"\n",
    "print('\\nОтветы при классификации (обучении с учителем): ')\n",
    "print(cross_val_score(clf, matrix, dataset.target).mean())"
   ]
  },
  {
   "cell_type": "markdown",
   "metadata": {},
   "source": [
    "### Уменьшим количество признаков сингулярным разложением (SVD)"
   ]
  },
  {
   "cell_type": "code",
   "execution_count": 61,
   "metadata": {},
   "outputs": [
    {
     "name": "stdout",
     "output_type": "stream",
     "text": [
      "\n",
      "Предсказания при кластеризации:  [1 1 0 ... 1 0 1]\n",
      "Ответы при классификации (обучении с учителем):  [2 1 1 ... 2 0 2]\n"
     ]
    }
   ],
   "source": [
    "from sklearn.decomposition import TruncatedSVD\n",
    "\n",
    "model = KMeans(n_clusters=3, random_state=42)\n",
    "svd = TruncatedSVD(n_components=249, random_state=123) # уменьшим количество признаков до 249\n",
    "features = svd.fit_transform(matrix)\n",
    "preds = model.fit_predict(features)\n",
    "\n",
    "print('\\nПредсказания при кластеризации: ', preds)\n",
    "print('Ответы при классификации (обучении с учителем): ', dataset.target)"
   ]
  },
  {
   "cell_type": "code",
   "execution_count": 63,
   "metadata": {},
   "outputs": [
    {
     "name": "stdout",
     "output_type": "stream",
     "text": [
      "\n",
      "Угадываем кластер с вероятностью: \n",
      "0.6668568168853394\n"
     ]
    }
   ],
   "source": [
    "mapping = {2: 1, 1: 0, 0: 2} # сопоставляем полученные кластеры с правильными ответами\n",
    "mapped_preds = [mapping[pred] for pred in preds]\n",
    "\n",
    "\"\"\"КЛАСТЕРИЗАЦИЯ\"\"\"\n",
    "print('\\nУгадываем кластер с вероятностью: ')\n",
    "print(float(sum(mapped_preds != dataset.target)) / len(dataset.target))"
   ]
  },
  {
   "cell_type": "code",
   "execution_count": 64,
   "metadata": {},
   "outputs": [
    {
     "name": "stdout",
     "output_type": "stream",
     "text": [
      "\n",
      "Ответы при классификации (обучении с учителем): \n",
      "0.8014748354370996\n"
     ]
    }
   ],
   "source": [
    "clf = LogisticRegression()\n",
    "\n",
    "\"\"\"КЛАССИФИКАЦИЯ\"\"\"\n",
    "print('\\nОтветы при классификации (обучении с учителем): ')\n",
    "print(cross_val_score(clf, matrix, dataset.target).mean())"
   ]
  }
 ],
 "metadata": {
  "kernelspec": {
   "display_name": "Python 3",
   "language": "python",
   "name": "python3"
  },
  "language_info": {
   "codemirror_mode": {
    "name": "ipython",
    "version": 3
   },
   "file_extension": ".py",
   "mimetype": "text/x-python",
   "name": "python",
   "nbconvert_exporter": "python",
   "pygments_lexer": "ipython3",
   "version": "3.6.2"
  }
 },
 "nbformat": 4,
 "nbformat_minor": 2
}
