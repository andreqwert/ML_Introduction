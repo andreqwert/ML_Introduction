{
 "cells": [
  {
   "cell_type": "markdown",
   "metadata": {},
   "source": [
    "# Списки"
   ]
  },
  {
   "cell_type": "code",
   "execution_count": 20,
   "metadata": {},
   "outputs": [
    {
     "data": {
      "text/plain": [
       "[1, 2]"
      ]
     },
     "execution_count": 20,
     "metadata": {},
     "output_type": "execute_result"
    }
   ],
   "source": [
    "# pop - удаляет и возвращает удаляемый элемент\n",
    "\n",
    "nums = [1, 2, 4]\n",
    "nums.pop() # не сообщили, какой элемент удалить, поэтому он удалит последний элемент списка\n",
    "\n",
    "nums"
   ]
  },
  {
   "cell_type": "code",
   "execution_count": 21,
   "metadata": {},
   "outputs": [
    {
     "data": {
      "text/plain": [
       "[1, 3, 5, 6, 7, 3, 4]"
      ]
     },
     "execution_count": 21,
     "metadata": {},
     "output_type": "execute_result"
    }
   ],
   "source": [
    "# extend - расширяет список\n",
    "\n",
    "nums = [1, 3, 5, 6, 7]\n",
    "nums.extend([3, 4]) \n",
    "\n",
    "nums"
   ]
  },
  {
   "cell_type": "code",
   "execution_count": 22,
   "metadata": {},
   "outputs": [
    {
     "name": "stdout",
     "output_type": "stream",
     "text": [
      "phrase:  Don't panic!\n",
      "\n",
      "plist:  ['D', 'o', 'n', \"'\", 't', ' ', 'p', 'a', 'n', 'i', 'c', '!']\n"
     ]
    }
   ],
   "source": [
    "# Отличия строковых данных от списка\n",
    "\n",
    "phrase = \"Don't panic!\"\n",
    "print('phrase: ', phrase)\n",
    "\n",
    "plist = list(phrase) \n",
    "print('\\nplist: ', plist)"
   ]
  },
  {
   "cell_type": "code",
   "execution_count": 25,
   "metadata": {},
   "outputs": [],
   "source": [
    "# Списки нельзя копировать присваиванием! Только функцией copy()!\n",
    "\n",
    "first = [1, 2, 3, 4, 5]\n",
    "second = first\n",
    "\n",
    "second.append(6)\n",
    "#print('first: ', first)   # [1, 2, 3, 4, 5, 6]\n",
    "#print('second: ', second) # [1, 2, 3, 4, 5, 6]\n",
    "\n",
    "third = second.copy()\n",
    "third.append(7)\n",
    "#print('second: ', second) # [1, 2, 3, 4, 5, 6]\n",
    "#print('third: ', third)   # [1, 2, 3, 4, 5, 6, 7]"
   ]
  },
  {
   "cell_type": "markdown",
   "metadata": {},
   "source": [
    "# Словари"
   ]
  },
  {
   "cell_type": "code",
   "execution_count": 15,
   "metadata": {},
   "outputs": [
    {
     "data": {
      "text/plain": [
       "{'Gender': 'Male',\n",
       " 'Home planet': 'Betelgeuse Seven',\n",
       " 'Name': 'Ford Prefect',\n",
       " 'Occupation': 'Researcher'}"
      ]
     },
     "execution_count": 15,
     "metadata": {},
     "output_type": "execute_result"
    }
   ],
   "source": [
    "# Создать словарь со значениями\n",
    "person = {'Name': 'Ford Prefect',\n",
    "\t\t  'Gender': 'Male',\n",
    "\t\t  'Occupation': 'Researcher',\n",
    "\t\t  'Home planet': 'Betelgeuse Seven'}\n",
    "person"
   ]
  },
  {
   "cell_type": "code",
   "execution_count": 16,
   "metadata": {},
   "outputs": [
    {
     "name": "stdout",
     "output_type": "stream",
     "text": [
      "Betelgeuse Seven\n"
     ]
    }
   ],
   "source": [
    "# Посмотреть запись в словаре по ключу\n",
    "print(person['Home planet']) # Betelgeuse Seven"
   ]
  },
  {
   "cell_type": "code",
   "execution_count": 18,
   "metadata": {},
   "outputs": [
    {
     "data": {
      "text/plain": [
       "{'Age': 33,\n",
       " 'Gender': 'Male',\n",
       " 'Home planet': 'Betelgeuse Seven',\n",
       " 'Name': 'Ford Prefect',\n",
       " 'Occupation': 'Researcher'}"
      ]
     },
     "execution_count": 18,
     "metadata": {},
     "output_type": "execute_result"
    }
   ],
   "source": [
    "# Добавить новое поле в словарь\n",
    "person['Age'] = 33 \n",
    "\n",
    "person"
   ]
  },
  {
   "cell_type": "code",
   "execution_count": 32,
   "metadata": {},
   "outputs": [
    {
     "data": {
      "text/plain": [
       "{'a': 0, 'e': 0, 'i': 0, 'o': 0, 'u': 0}"
      ]
     },
     "execution_count": 32,
     "metadata": {},
     "output_type": "execute_result"
    }
   ],
   "source": [
    "# Создадим пустой словарь\n",
    "found = {}\n",
    "\n",
    "# Добавим данные в пустой словарь\n",
    "found['o'] = 0\n",
    "found['u'] = 0\n",
    "found['i'] = 0\n",
    "found['a'] = 0\n",
    "found['e'] = 0\n",
    "\n",
    "found"
   ]
  },
  {
   "cell_type": "code",
   "execution_count": 33,
   "metadata": {},
   "outputs": [
    {
     "data": {
      "text/plain": [
       "{'a': 0, 'e': 1, 'i': 0, 'o': 0, 'u': 0}"
      ]
     },
     "execution_count": 33,
     "metadata": {},
     "output_type": "execute_result"
    }
   ],
   "source": [
    "# Заменить value заданного элемента\n",
    "found['e'] += 1\n",
    "\n",
    "found"
   ]
  },
  {
   "cell_type": "code",
   "execution_count": 34,
   "metadata": {},
   "outputs": [
    {
     "name": "stdout",
     "output_type": "stream",
     "text": [
      "o was found 0 time(s).\n",
      "u was found 0 time(s).\n",
      "i was found 0 time(s).\n",
      "a was found 0 time(s).\n",
      "e was found 1 time(s).\n"
     ]
    }
   ],
   "source": [
    "for k in found:\n",
    "    print(k, 'was found', found[k], 'time(s).')"
   ]
  },
  {
   "cell_type": "code",
   "execution_count": 36,
   "metadata": {},
   "outputs": [
    {
     "name": "stdout",
     "output_type": "stream",
     "text": [
      "a was found 0 time(s).\n",
      "e was found 1 time(s).\n",
      "i was found 0 time(s).\n",
      "o was found 0 time(s).\n",
      "u was found 0 time(s).\n"
     ]
    }
   ],
   "source": [
    "# Отсортировать гласные (ключи словаря) по алфавиту\n",
    "for k in sorted(found):\n",
    "    print(k, 'was found', found[k], 'time(s).')"
   ]
  },
  {
   "cell_type": "markdown",
   "metadata": {},
   "source": [
    "### Метод setdefault"
   ]
  },
  {
   "cell_type": "markdown",
   "metadata": {},
   "source": [
    "Метод **setdefault** нужен на случай, когда обращаются к несуществующему ключу.       \n",
    "Во избежание ошибки *KeyError*, при которой программа аварийно завершается - добавляется строка setdefault"
   ]
  },
  {
   "cell_type": "code",
   "execution_count": 4,
   "metadata": {},
   "outputs": [
    {
     "name": "stdout",
     "output_type": "stream",
     "text": [
      "Provide a word to search for vowels: abrepy\n",
      "a was found 1 time(s).\n",
      "e was found 1 time(s).\n"
     ]
    }
   ],
   "source": [
    "vowels = ['a', 'e', 'i', 'o', 'u']\n",
    "word = input('Provide a word to search for vowels: ')\n",
    "\n",
    "found = {}\n",
    "\n",
    "for letter in word:\n",
    "    if letter in vowels:\n",
    "        found.setdefault(letter, 0) # Гарантирует инициализацию несуществующих ключей\n",
    "        found[letter] += 1\n",
    "\n",
    "for k,v in sorted(found.items()):\n",
    "    print(k, 'was found', found[k], 'time(s).')  "
   ]
  },
  {
   "cell_type": "markdown",
   "metadata": {},
   "source": [
    "# Множества"
   ]
  },
  {
   "cell_type": "code",
   "execution_count": 12,
   "metadata": {},
   "outputs": [
    {
     "data": {
      "text/plain": [
       "{'a', 'e', 'i', 'o', 'u'}"
      ]
     },
     "execution_count": 12,
     "metadata": {},
     "output_type": "execute_result"
    }
   ],
   "source": [
    "vowels = set('aeeiouu')\n",
    "\n",
    "vowels"
   ]
  },
  {
   "cell_type": "code",
   "execution_count": 20,
   "metadata": {},
   "outputs": [
    {
     "name": "stdout",
     "output_type": "stream",
     "text": [
      "{'e', 'i', 'u', 'o', 'a'} {'p', 'e', 'b', 'a', 'r', 'y'} \n",
      "\n",
      "{'p', 'e', 'i', 'b', 'u', 'o', 'a', 'r', 'y'}\n"
     ]
    }
   ],
   "source": [
    "print(vowels, set(word), '\\n') \n",
    "\n",
    "# union объединяет два множества без повторяющихся элементов\n",
    "u = vowels.union(set(word))\n",
    "print(u)"
   ]
  },
  {
   "cell_type": "code",
   "execution_count": 21,
   "metadata": {},
   "outputs": [
    {
     "name": "stdout",
     "output_type": "stream",
     "text": [
      "['a', 'b', 'e', 'i', 'o', 'p', 'r', 'u', 'y']\n"
     ]
    }
   ],
   "source": [
    "print(sorted(u))"
   ]
  },
  {
   "cell_type": "markdown",
   "metadata": {},
   "source": [
    "#### Метод intersection - для поиска одинаковых элементов во множествах"
   ]
  },
  {
   "cell_type": "code",
   "execution_count": 23,
   "metadata": {},
   "outputs": [
    {
     "data": {
      "text/plain": [
       "{'a', 'e'}"
      ]
     },
     "execution_count": 23,
     "metadata": {},
     "output_type": "execute_result"
    }
   ],
   "source": [
    "common_elements = vowels.intersection(set(word))\n",
    "\n",
    "common_elements"
   ]
  },
  {
   "cell_type": "markdown",
   "metadata": {},
   "source": [
    "# Множества в функциях"
   ]
  },
  {
   "cell_type": "markdown",
   "metadata": {},
   "source": [
    "Аннотации функций - аналог комментариев. Аннотациями пользуются программисты для того, чтобы уяснить для себя типы входных и выходных данных функции. При этом они указываются разработчиком самолвольнои по идее могут не соответствовать действительности."
   ]
  },
  {
   "cell_type": "code",
   "execution_count": 42,
   "metadata": {},
   "outputs": [],
   "source": [
    "# ФУНКЦИЯ 1\n",
    "def search4vowels(word:str) -> set:   # функция получает строку str, а возвращает множество set\n",
    "\t\"\"\"Возвращает гласные, найденные в указанном слове\"\"\"\n",
    "\tvowels = set('aeiou')\n",
    "\treturn vowels.intersection(set(word))"
   ]
  },
  {
   "cell_type": "code",
   "execution_count": 26,
   "metadata": {},
   "outputs": [
    {
     "data": {
      "text/plain": [
       "{'a'}"
      ]
     },
     "execution_count": 26,
     "metadata": {},
     "output_type": "execute_result"
    }
   ],
   "source": [
    "search4vowels('galaxy')"
   ]
  },
  {
   "cell_type": "code",
   "execution_count": 28,
   "metadata": {},
   "outputs": [
    {
     "data": {
      "text/plain": [
       "{'e', 'i'}"
      ]
     },
     "execution_count": 28,
     "metadata": {},
     "output_type": "execute_result"
    }
   ],
   "source": [
    "search4vowels('hitch-hiker')"
   ]
  },
  {
   "cell_type": "code",
   "execution_count": 29,
   "metadata": {},
   "outputs": [
    {
     "data": {
      "text/plain": [
       "{'a', 'e', 'i', 'u'}"
      ]
     },
     "execution_count": 29,
     "metadata": {},
     "output_type": "execute_result"
    }
   ],
   "source": [
    "search4vowels('life, the universe and everything')"
   ]
  },
  {
   "cell_type": "code",
   "execution_count": 31,
   "metadata": {},
   "outputs": [
    {
     "data": {
      "text/plain": [
       "set()"
      ]
     },
     "execution_count": 31,
     "metadata": {},
     "output_type": "execute_result"
    }
   ],
   "source": [
    "search4vowels('sky')\n",
    "# Возвращает пустое множество"
   ]
  },
  {
   "cell_type": "code",
   "execution_count": 33,
   "metadata": {},
   "outputs": [
    {
     "name": "stdout",
     "output_type": "stream",
     "text": [
      "Help on function search4vowels in module __main__:\n",
      "\n",
      "search4vowels(word:str) -> set\n",
      "    Возвращает гласные, найденные в указанном слове\n",
      "\n"
     ]
    }
   ],
   "source": [
    "help(search4vowels)"
   ]
  },
  {
   "cell_type": "markdown",
   "metadata": {},
   "source": [
    "Укоротим функцию 1:"
   ]
  },
  {
   "cell_type": "code",
   "execution_count": 40,
   "metadata": {},
   "outputs": [],
   "source": [
    "def search4vowels(phrase:str, letters:str='aeiou') -> set:\n",
    "    \"\"\"Возвращает гласные, найденные в указанном слове\"\"\"\n",
    "    return set(letters).intersection(set(phrase))\n",
    "\n",
    "# Создаётся объект из множества letters, а потом ищется пересечение (intersection) множеств letters и phrase, т.е.\n",
    "# ищутся одинаковые элементы \n",
    "\n",
    "# Значение aeiou в letters будет использоваться по умолчанию, если при вызове не будет задано какое-то другое значение"
   ]
  },
  {
   "cell_type": "code",
   "execution_count": 41,
   "metadata": {},
   "outputs": [
    {
     "data": {
      "text/plain": [
       "{'x', 'y'}"
      ]
     },
     "execution_count": 41,
     "metadata": {},
     "output_type": "execute_result"
    }
   ],
   "source": [
    "search4vowels('galaxy', 'xyz')"
   ]
  }
 ],
 "metadata": {
  "kernelspec": {
   "display_name": "Python 3",
   "language": "python",
   "name": "python3"
  },
  "language_info": {
   "codemirror_mode": {
    "name": "ipython",
    "version": 3
   },
   "file_extension": ".py",
   "mimetype": "text/x-python",
   "name": "python",
   "nbconvert_exporter": "python",
   "pygments_lexer": "ipython3",
   "version": "3.6.3"
  }
 },
 "nbformat": 4,
 "nbformat_minor": 2
}
