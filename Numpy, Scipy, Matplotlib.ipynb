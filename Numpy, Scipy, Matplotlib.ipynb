{
 "cells": [
  {
   "cell_type": "markdown",
   "metadata": {},
   "source": [
    "# Numpy"
   ]
  },
  {
   "cell_type": "code",
   "execution_count": 2,
   "metadata": {
    "collapsed": true
   },
   "outputs": [],
   "source": [
    "import numpy as np"
   ]
  },
  {
   "cell_type": "code",
   "execution_count": 3,
   "metadata": {
    "collapsed": true
   },
   "outputs": [],
   "source": [
    "x = [2, 3, 4, 6]\n",
    "y = np.array(x)"
   ]
  },
  {
   "cell_type": "code",
   "execution_count": 4,
   "metadata": {
    "collapsed": false
   },
   "outputs": [
    {
     "data": {
      "text/plain": [
       "array([4, 6])"
      ]
     },
     "execution_count": 4,
     "metadata": {},
     "output_type": "execute_result"
    }
   ],
   "source": [
    "y[y>3]"
   ]
  },
  {
   "cell_type": "code",
   "execution_count": 5,
   "metadata": {
    "collapsed": false
   },
   "outputs": [
    {
     "name": "stdout",
     "output_type": "stream",
     "text": [
      "0\n"
     ]
    }
   ],
   "source": [
    "#Выведем элемент из матрицы\n",
    "matrix = [[1,2,4], [3,1,0]]\n",
    "nd_array = np.array(matrix)\n",
    "print(nd_array[1,2])"
   ]
  },
  {
   "cell_type": "code",
   "execution_count": 6,
   "metadata": {
    "collapsed": false
   },
   "outputs": [
    {
     "name": "stdout",
     "output_type": "stream",
     "text": [
      "\n",
      "Random number:\n",
      " -0.5550167144532857\n",
      "\n",
      "4 random numbers:\n",
      " [ 0.39349126 -0.21422392  1.15165096 -0.17912058]\n",
      "\n",
      "Array of random numbers:\n",
      " [[-1.45718933  1.66146303 -0.14356651 -0.57177729  1.13712888]\n",
      " [-0.92418317 -1.05247106  0.54997941 -1.36556726 -0.64449298]\n",
      " [-0.53647782  0.47775131 -1.12879764  0.5878063   1.86101449]\n",
      " [ 0.39735115  1.71360819  0.21546124  0.88503714 -1.51692602]]\n"
     ]
    }
   ],
   "source": [
    "#Генерация случайного числа из нормального распределения\n",
    "print('\\nRandom number:\\n', np.random.randn())\n",
    "#Можно сгенерировать сразу несколько случайных чисел\n",
    "print('\\n4 random numbers:\\n', np.random.randn(4))\n",
    "#Или массив из случайных чисел\n",
    "print('\\nArray of random numbers:\\n', np.random.randn(4,5))"
   ]
  },
  {
   "cell_type": "code",
   "execution_count": 7,
   "metadata": {
    "collapsed": false
   },
   "outputs": [
    {
     "name": "stdout",
     "output_type": "stream",
     "text": [
      "[ 0.   0.1  0.2  0.3  0.4  0.5  0.6  0.7  0.8  0.9  1.   1.1  1.2  1.3  1.4\n",
      "  1.5  1.6  1.7  1.8  1.9]\n"
     ]
    }
   ],
   "source": [
    "#Задать числа с некоторым шагом\n",
    "print(np.arange(0, 2, 0.1))"
   ]
  },
  {
   "cell_type": "markdown",
   "metadata": {},
   "source": [
    "# Scipy"
   ]
  },
  {
   "cell_type": "markdown",
   "metadata": {},
   "source": [
    "Для задач из линейной алгебры, теории оптимизации и т.д."
   ]
  },
  {
   "cell_type": "markdown",
   "metadata": {},
   "source": [
    "## Теория оптимизации"
   ]
  },
  {
   "cell_type": "code",
   "execution_count": 8,
   "metadata": {
    "collapsed": true
   },
   "outputs": [],
   "source": [
    "from scipy import optimize"
   ]
  },
  {
   "cell_type": "code",
   "execution_count": 9,
   "metadata": {
    "collapsed": false
   },
   "outputs": [
    {
     "name": "stdout",
     "output_type": "stream",
     "text": [
      "      fun: 3.0000000000011435\n",
      " hess_inv: array([[ 0.94055055, -0.16183475],\n",
      "       [-0.16183475,  0.55944947]])\n",
      "      jac: array([ -2.05636024e-06,   5.36441803e-07])\n",
      "  message: 'Optimization terminated successfully.'\n",
      "     nfev: 16\n",
      "      nit: 3\n",
      "     njev: 4\n",
      "   status: 0\n",
      "  success: True\n",
      "        x: array([ 3.19999896,  0.10000026])\n",
      "[ 3.19999896  0.10000026]\n"
     ]
    }
   ],
   "source": [
    "#Если мы хотим найти минимальное значение функции на отрезке.\n",
    "#Передаём функцию и отрезок, на котором начинается оптимизационный процесс.\n",
    "#Минимум найден в точке 3 (fun: 3.00000000000011435).\n",
    "\n",
    "def f(x):\n",
    "    return (x[0] - 3.2) ** 2 + (x[1] - 0.1) ** 2 + 3\n",
    "\n",
    "x_min = optimize.minimize(f, [5,5])\n",
    "print(x_min)\n",
    "\n",
    "#По иксам - в точке x: array([ 3.19999896,  0.10000026])\n",
    "print(x_min.x)"
   ]
  },
  {
   "cell_type": "markdown",
   "metadata": {},
   "source": [
    "Решение задач на оптимизацию: https://www.coursera.org/learn/mathematics-and-python/lecture/Nr1JF/rieshieniie-optimizatsionnykh-zadach-v-scipy"
   ]
  },
  {
   "cell_type": "markdown",
   "metadata": {},
   "source": [
    "# Matplotlib"
   ]
  },
  {
   "cell_type": "code",
   "execution_count": 10,
   "metadata": {
    "collapsed": false
   },
   "outputs": [],
   "source": [
    "#чтобы все графики выводились сразу в .ipynb\n",
    "%matplotlib inline \n",
    "\n",
    "import numpy as np\n",
    "import matplotlib.pyplot as plt\n",
    "from scipy import interpolate #чтобы по известным значениям функциям приблизить значения в промежуточных точках"
   ]
  },
  {
   "cell_type": "code",
   "execution_count": 12,
   "metadata": {
    "collapsed": false
   },
   "outputs": [
    {
     "data": {
      "image/png": "[encoded data removed]",
      "text/plain": [
       "<matplotlib.figure.Figure at 0x10e92f7b8>"
      ]
     },
     "metadata": {},
     "output_type": "display_data"
    }
   ],
   "source": [
    "x = np.arange(0, 10, 2)\n",
    "y = np.exp(-x/3.0)\n",
    "\n",
    "f = interpolate.interp1d(x, y, kind='linear') #можно изменить на quadratic, cubic и т.д.\n",
    "xnew = np.arange(0, 8, 0.1)\n",
    "ynew = f(xnew)\n",
    "\n",
    "plt.plot(x, y, 'o', xnew, ynew, '-')\n",
    "plt.show()"
   ]
  },
  {
   "cell_type": "code",
   "execution_count": null,
   "metadata": {
    "collapsed": true
   },
   "outputs": [],
   "source": []
  }
 ],
 "metadata": {
  "kernelspec": {
   "display_name": "Python 3",
   "language": "python",
   "name": "python3"
  },
  "language_info": {
   "codemirror_mode": {
    "name": "ipython",
    "version": 3
   },
   "file_extension": ".py",
   "mimetype": "text/x-python",
   "name": "python",
   "nbconvert_exporter": "python",
   "pygments_lexer": "ipython3",
   "version": "3.5.2"
  }
 },
 "nbformat": 4,
 "nbformat_minor": 1
}
