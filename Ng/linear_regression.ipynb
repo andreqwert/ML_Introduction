{
 "cells": [
  {
   "cell_type": "markdown",
   "metadata": {},
   "source": [
    "# Andrew Ng. Неделя 2. Линейная регрессия."
   ]
  },
  {
   "cell_type": "markdown",
   "metadata": {},
   "source": [
    "## Линейная регрессия с одной переменной\n",
    "\n",
    "Представьте, что Вы владеете сетью ресторанов и хотите открыть новую точку. У Вас есть данные о прибыли и популярности точек разных городов. Вы хотите воспользоваться накопленными данными, чтобы понять, в каком городе открыть новую точку.\n",
    "\n",
    "Файл `Data/ex1data1.txt` содержит датасет для нашей задачи линейной регрессии. Первая колонка - популярность в городе (измеряется в 10000) и вторая - прибыль (в $100000). Негативные числа показывают убыток. "
   ]
  },
  {
   "cell_type": "code",
   "execution_count": 1,
   "metadata": {},
   "outputs": [],
   "source": [
    "import numpy as np\n",
    "from matplotlib import pyplot\n",
    "from mpl_toolkits.mplot3d import Axes3D  # для отображения 3D\n",
    "import os\n",
    "\n",
    "\n",
    "data = np.loadtxt(os.path.join('Data', 'ex1data1.txt'), delimiter=',')\n",
    "X = data[:, 0]   # Поплярность в городе\n",
    "y = data[:, 1]   # Прибыль\n",
    "m = y.size  # Число примеров\n",
    "\n",
    "def plotData(x, y):\n",
    "    pyplot.plot(x, y, 'ro', ms=10, mec='k') # ms=marker_size, mec=marker_edge_color\n",
    "    pyplot.ylabel('Profit in $10,000')\n",
    "    pyplot.xlabel('Population of City in 10,000s')\n",
    "\n",
    "plotData(X, y)"
   ]
  },
  {
   "cell_type": "markdown",
   "metadata": {},
   "source": [
    "# Градиентный спуск\n",
    "### 1. Вычисление функции стоимости\n",
    "\n",
    "Цель линейной регрессии - минимизировать функцию стоимости (функцию потерь).\n",
    "\n",
    "$$ J(\\theta) = \\frac{1}{2m} \\sum_{i=1}^m \\left( h_{\\theta}(x^{(i)}) - y^{(i)}\\right)^2$$\n",
    "\n",
    "где гипотеза $h_\\theta(x)$ выражена линейной моделью:\n",
    "$$ h_\\theta(x) = \\theta^Tx = \\theta_0 + \\theta_1 x_1$$\n",
    "\n",
    "Заметьте, что параметры Вашей модели - это значения $\\theta_j$. Именно эти значения будут меняться в задаче минимизации функции стоимости $J(\\theta)$. Один из способов это сделать - воспользоваться алгоритмом градиентного спуска, каждая итерация которого - обновление\n",
    "\n",
    "$$ \\theta_j = \\theta_j - \\alpha \\frac{1}{m} \\sum_{i=1}^m \\left( h_\\theta(x^{(i)}) - y^{(i)}\\right)x_j^{(i)} \\qquad \\text{одновременно обновляем } \\theta_j \\text{ для всех } j$$\n",
    "\n",
    "С каждым шагом градиентного спуска Ваши параметры $\\theta_j$ всё ближе к оптимальным значениям для достижения минимума функции стоимости J($\\theta$)."
   ]
  },
  {
   "cell_type": "code",
   "execution_count": 2,
   "metadata": {},
   "outputs": [],
   "source": [
    "def computeCost(X, y, theta):\n",
    "    \"\"\"\n",
    "    Вычисляем функцию стоимости для линейной регрессии. \n",
    "    Считаем при помощи коэффицинета theta параметр линейной регрессии, чтобы обучить данные в X и y.\n",
    "    \"\"\"\n",
    "    m = y.size  # количество обучающих примеров\n",
    "    J = 0\n",
    "    J = (np.sum(np.square(np.subtract(np.dot(X,theta.T),y))))/(2*m)\n",
    "    return J"
   ]
  },
  {
   "cell_type": "code",
   "execution_count": 3,
   "metadata": {},
   "outputs": [],
   "source": [
    "# Доблавляем столбик с единичкам к X \n",
    "X = np.stack([np.ones(m), X], axis=1)"
   ]
  },
  {
   "cell_type": "markdown",
   "metadata": {},
   "source": [
    "$$h_\\theta(x) = \\theta^Tx$$"
   ]
  },
  {
   "cell_type": "raw",
   "metadata": {},
   "source": [
    "1) theta.shape(2,)\n",
    "2) theta.T.shape(2,)\n",
    "3) X.shape = (97, 2)\n",
    "    \n",
    "Поэтому np.dot(X, theta.T) выдает (97, 2) x (2, ) => (97, ) и работает, а\n",
    "np.dot(theta.T, X) выдает (2, ) x (97, 2) вообще не заработает\n",
    "\n",
    "Итого: np.dot(theta.T, X)"
   ]
  },
  {
   "cell_type": "markdown",
   "metadata": {},
   "source": [
    "$$ J(\\theta) = \\frac{1}{2m} \\sum_{i=1}^m \\left( h_{\\theta}(x^{(i)}) - y^{(i)}\\right)^2$$"
   ]
  },
  {
   "cell_type": "raw",
   "metadata": {},
   "source": [
    "J = np.sum(np.square(np.subtract(np.dot(X, theta.T), y)))\n",
    "J /= (2*m)"
   ]
  },
  {
   "cell_type": "code",
   "execution_count": 4,
   "metadata": {},
   "outputs": [
    {
     "name": "stdout",
     "output_type": "stream",
     "text": [
      "Пусть theta=[0.0, 0.0].\n",
      "Тогда ожидаемое значение функции стоимости (примерно) = 32.07\n",
      "\n",
      "\n",
      "Пусть theta=[-1, 2].\n",
      "Тогда ожидаемое значение функции стоимости (примерно) = 54.24\n"
     ]
    }
   ],
   "source": [
    "J = computeCost(X, y, theta=np.array([0.0, 0.0]))\n",
    "print('Пусть theta=[0.0, 0.0].')\n",
    "print('Тогда ожидаемое значение функции стоимости (примерно) = %.2f' % J)\n",
    "\n",
    "print('\\n')\n",
    "\n",
    "print('Пусть theta=[-1, 2].')\n",
    "J = computeCost(X, y, theta=np.array([-1, 2]))\n",
    "print('Тогда ожидаемое значение функции стоимости (примерно) = %.2f' % J)"
   ]
  },
  {
   "cell_type": "markdown",
   "metadata": {},
   "source": [
    "### 2. Реализация градиентного спуска\n",
    "\n",
    "Имейте в виду, что стоимость $J(\\theta)$ параметризована вектором $\\theta$, а не $X$ и $y$. Поэтому мы минимизируем значение $J(\\theta)$ изменением значений вектора $\\theta$, а не изменением $X$ или $y$. Один из хороших способов проверить, что всё работает корректно - это посмотреть на значение $J(\\theta)$ и удостовериться, что с каждым шагом оно уменьшается.\n",
    "\n",
    "При вызове функции `computeCost` на каждой итерации сохраняется значение стоимости (ошибки) в `python` list. При верно выстроенной функции `computeCost`, Ваше значение $J(\\theta)$ никогда не должно увеличиваться и должно сходиться к постоянному значению.\n",
    "\n",
    "<div class=\"alert alert-box alert-warning\">\n",
    "**Векторы и матрицы в numpy** - важные замечания\n",
    "\n",
    "Вектор в `numpy` - это 1D-массив `np.array([1, 2, 3])`. Матрица в `numpy` - это 2D, например `np.array([[1, 2, 3], [4, 5, 6]])`. Тем не менее, вот это выражение тоже является матрицей: `np.array([[1, 2, 3]])`, так как оно имеет 2 измерения.\n",
    "\n",
    "В связи с вышеперечисленным, функция `np.dot`, которую мы будем использовать для всех матричных/векторных перемножений - обладает следующими свойствами:\n",
    "\n",
    "- В случае умножения матрицы на вектор, если $X$ - это матрица $m\\times n$ и $y$ - вектор длины $m$, то операция `np.dot(y, X)` предполагает, что $y$ - это вектор $1 \\times m$. С другой стороны, если $y$ - вектор длины $n$, то операция `np.dot(X, y)` предполагает, что $y$ - это вектор $n \\times 1$.\n",
    "- Вектор можно перевести в метрицу при помощи `y[None]` или `[y[np.newaxis]`. Так, если `y = np.array([1, 2, 3])` - это вектор размера 3, то `y[None, :]` - это матрица с размерностью $1 \\times 3$. Мы можем воспользоваться `y[:, None]`, чтобы получить размерность $3 \\times 1$.\n",
    "<div>\n",
    "<a id=\"gradientDescent\"></a>"
   ]
  },
  {
   "cell_type": "code",
   "execution_count": 5,
   "metadata": {},
   "outputs": [],
   "source": [
    "def gradientDescent(X, y, theta, alpha, num_iters):\n",
    "    \"\"\"\n",
    "    Выполняем граидентный спуск, чтобы получить конечный вес `theta`. \n",
    "    \n",
    "    X : массив. Датасет размерностью (m x (n+1)), где m - число примеров, n - число признаков. \n",
    "    y : массив. Значения функции на каждое входное значение. Вектор размерностью (m, ).\n",
    "    theta : массив\n",
    "            Начальные значения параметров линейной регрессии. Вектор размерностью (n+1, ).\n",
    "    alpha : float\n",
    "            Скорость обучения\n",
    "    num_iters : int\n",
    "                Количество итераций градиентного спуска\n",
    "    -------\n",
    "    theta : массив\n",
    "            Параметры обученной линейной регрессии. Вектор размерностью (n+1, ).\n",
    "    J_history : список\n",
    "                python'овский список значений функции стоимости после каждой итерации.\n",
    "    \"\"\"\n",
    "    \n",
    "\n",
    "    m = y.shape[0]  # количество обучающих примеров\n",
    "    \n",
    "    # делаем копию theta, чтобы избежать изменения оригинального массива, так как массивы numpy\n",
    "    # передаются по ссылке к функциям\n",
    "    theta = theta.copy()\n",
    "    J_history = [] # сохраняем функцию стоимости на каждой итерации\n",
    "    \n",
    "    for i in range(num_iters):\n",
    "        # ==================== YOUR CODE HERE =================================\n",
    "        h = X.dot(theta)\n",
    "        theta = theta - alpha*(1/m)*(X.T.dot(h-y))\n",
    "        # =====================================================================\n",
    "        J_history.append(computeCost(X, y, theta))\n",
    "    \n",
    "    return theta, J_history"
   ]
  },
  {
   "cell_type": "code",
   "execution_count": 6,
   "metadata": {},
   "outputs": [
    {
     "name": "stdout",
     "output_type": "stream",
     "text": [
      "Значения theta, найденные методом градиентного спуска: -3.6303, 1.1664\n",
      "Для населения = 35000 человек мы предсказываем выруску равную 4519.77\n",
      "Для населения = 70000 человек мы предсказываем выруску равную 45342.45\n"
     ]
    },
    {
     "data": {
      "image/png": "[encoded data removed]",
      "text/plain": [
       "<Figure size 432x288 with 1 Axes>"
      ]
     },
     "metadata": {
      "needs_background": "light"
     },
     "output_type": "display_data"
    }
   ],
   "source": [
    "# инициализируем параметры обучения\n",
    "theta = np.zeros(2)\n",
    "# некоторые настройки для градиентного спуска\n",
    "iterations = 1500\n",
    "alpha = 0.01\n",
    "\n",
    "theta, J_history = gradientDescent(X, y, theta, alpha, iterations)\n",
    "print('Значения theta, найденные методом градиентного спуска: {:.4f}, {:.4f}'.format(*theta))\n",
    "\n",
    "plotData(X[:, 1], y)\n",
    "pyplot.plot(X[:, 1], np.dot(X, theta), '-')\n",
    "pyplot.legend(['Training data', 'Linear regression']);\n",
    "\n",
    "predict1 = np.dot([1, 3.5], theta) # 3,5 - потому что измеряем в десятках тысяч. 3,5 --> 3,5*10000 = 35000\n",
    "print('Для населения = 35000 человек мы предсказываем выруску равную {:.2f}'.format(predict1*10000))\n",
    "predict2 = np.dot([1, 7], theta)\n",
    "print('Для населения = 70000 человек мы предсказываем выруску равную {:.2f}'.format(predict2*10000))"
   ]
  }
 ],
 "metadata": {
  "kernelspec": {
   "display_name": "Python 3",
   "language": "python",
   "name": "python3"
  },
  "language_info": {
   "codemirror_mode": {
    "name": "ipython",
    "version": 3
   },
   "file_extension": ".py",
   "mimetype": "text/x-python",
   "name": "python",
   "nbconvert_exporter": "python",
   "pygments_lexer": "ipython3",
   "version": "3.7.1"
  }
 },
 "nbformat": 4,
 "nbformat_minor": 2
}
