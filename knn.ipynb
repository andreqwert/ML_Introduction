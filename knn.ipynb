{
 "cells": [
  {
   "cell_type": "code",
   "execution_count": 68,
   "metadata": {},
   "outputs": [],
   "source": [
    "import numpy as np\n",
    "from sklearn.model_selection import KFold, cross_val_score\n",
    "import pandas as pd\n",
    "from sklearn.neighbors import KNeighborsClassifier\n",
    "import sklearn"
   ]
  },
  {
   "cell_type": "code",
   "execution_count": 69,
   "metadata": {},
   "outputs": [],
   "source": [
    "'''Загрузите выборку'''\n",
    "df = pd.read_csv('wine.data', header=None)"
   ]
  },
  {
   "cell_type": "code",
   "execution_count": 70,
   "metadata": {},
   "outputs": [],
   "source": [
    "\"\"\"\n",
    "Извлеките признаки и классы.\n",
    "Класс записан в первом столбце.\n",
    "Признаки - со второго по последний.\n",
    "\"\"\"\n",
    "\n",
    "y = df[0] # класс\n",
    "X = df.loc[:, 1:] # Признаки. Выводим все строчки; выводим столбцы, начиная со второго"
   ]
  },
  {
   "cell_type": "code",
   "execution_count": 71,
   "metadata": {},
   "outputs": [],
   "source": [
    "\"\"\"\n",
    "Оценку качества необходимо провести методом кросс-валидации по 5 блокам (5-fold). \n",
    "Создайте генератор разбиений, который перемешивает выборку перед формированием блоков (shuffle=True). \n",
    "Для воспроизводимости результата создавайте генератор KFold с фиксированным параметром random_state=42. \n",
    "В качестве меры качества используйте долю верных ответов (accuracy).\n",
    "\"\"\"\n",
    "\n",
    "kf = KFold(n_splits=5, shuffle=True, random_state=42)"
   ]
  },
  {
   "cell_type": "code",
   "execution_count": 72,
   "metadata": {},
   "outputs": [
    {
     "name": "stdout",
     "output_type": "stream",
     "text": [
      "[ 0.73047619  0.66253968  0.70825397  0.65777778  0.67460317  0.67428571\n",
      "  0.68        0.68        0.70238095  0.68015873  0.70253968  0.69666667\n",
      "  0.69095238  0.67936508  0.70190476  0.67952381  0.7015873   0.67952381\n",
      "  0.67936508  0.69095238  0.70190476  0.69650794  0.70206349  0.70761905\n",
      "  0.70190476  0.69650794  0.69634921  0.70793651  0.71349206  0.70793651\n",
      "  0.69095238  0.71349206  0.71349206  0.72460317  0.72460317  0.71349206\n",
      "  0.71349206  0.71349206  0.70793651  0.70777778  0.71349206  0.70777778\n",
      "  0.70777778  0.70777778  0.70777778  0.70777778  0.69666667  0.71904762\n",
      "  0.69666667  0.70777778]\n"
     ]
    },
    {
     "data": {
      "text/plain": [
       "(1, 0.7304761904761905)"
      ]
     },
     "execution_count": 72,
     "metadata": {},
     "output_type": "execute_result"
    }
   ],
   "source": [
    "import numpy as np\n",
    "\"\"\"\n",
    "Найдите точность классификации на кросс-валидации для метода k ближайших соседей\n",
    "(sklearn.neighbors.KNeighborsClassifier), при k от 1 до 50. При каком k получилось оптимальное качество?\n",
    "Чему оно равно (число в интервале от 0 до 1)? \n",
    "\"\"\"\n",
    "\n",
    "\n",
    "def test_accuracy(kf, X, y):\n",
    "    cv_scores = []\n",
    "    \n",
    "    for k in range(1, 51):\n",
    "        knn = KNeighborsClassifier(n_neighbors=k)\n",
    "        scores = cross_val_score(knn, X, y, cv=kf, scoring='accuracy')\n",
    "        cv_scores.append(scores.mean())\n",
    "        \n",
    "    print(np.array(cv_scores))\n",
    "    \n",
    "    best_score = max(cv_scores)\n",
    "    optimal_k = cv_scores.index(best_score) + 1\n",
    "    return optimal_k, best_score\n",
    "\n",
    "\n",
    "test_accuracy(kf, X, y)"
   ]
  },
  {
   "cell_type": "code",
   "execution_count": 73,
   "metadata": {},
   "outputs": [
    {
     "name": "stdout",
     "output_type": "stream",
     "text": [
      "[ 0.94396825  0.93285714  0.95507937  0.93825397  0.94936508  0.94952381\n",
      "  0.94952381  0.9552381   0.96079365  0.96079365  0.96095238  0.9552381\n",
      "  0.94952381  0.96634921  0.97206349  0.97206349  0.96650794  0.96650794\n",
      "  0.95539683  0.96650794  0.96095238  0.96650794  0.96095238  0.9552381\n",
      "  0.9552381   0.96079365  0.9552381   0.96634921  0.97761905  0.96079365\n",
      "  0.9552381   0.96079365  0.96634921  0.96634921  0.96079365  0.96079365\n",
      "  0.9552381   0.96079365  0.96079365  0.96079365  0.96634921  0.96079365\n",
      "  0.96634921  0.96063492  0.96634921  0.94952381  0.95507937  0.94952381\n",
      "  0.95507937  0.96063492]\n"
     ]
    },
    {
     "data": {
      "text/plain": [
       "(29, 0.9776190476190475)"
      ]
     },
     "execution_count": 73,
     "metadata": {},
     "output_type": "execute_result"
    }
   ],
   "source": [
    "\"\"\"\n",
    "Произведите масштабирование признаков с помощью функции sklearn.preprocessing.scale.\n",
    "Снова найдите оптимальное k на кросс-валидации.\n",
    "Какое значение k получилось оптимальным после приведения признаков к одному масштабу?\n",
    "Приведите ответы на вопросы 3 и 4. Помогло ли масштабирование признаков?\n",
    "\"\"\"\n",
    "\n",
    "\n",
    "from sklearn.preprocessing import scale\n",
    "X = scale(X)\n",
    "test_accuracy(kf, X, y)"
   ]
  },
  {
   "cell_type": "markdown",
   "metadata": {},
   "source": [
    "## Подбор параметра метрики"
   ]
  },
  {
   "cell_type": "markdown",
   "metadata": {},
   "source": [
    "Главным параметром любого метрического алгоритма является функция расстояния (или метрика), используемая для измерения сходства между объектами. Можно использовать стандартный вариант (например, евклидову метрику), но гораздо более эффективным подходом является\n",
    "подбор метрики под конкретную задачу.\n",
    "\n",
    "Здесь берётся за основу метрика Минковского."
   ]
  },
  {
   "cell_type": "code",
   "execution_count": 74,
   "metadata": {},
   "outputs": [
    {
     "name": "stderr",
     "output_type": "stream",
     "text": [
      "/Users/user/miniconda3/lib/python3.6/site-packages/sklearn/cross_validation.py:41: DeprecationWarning: This module was deprecated in version 0.18 in favor of the model_selection module into which all the refactored classes and functions are moved. Also note that the interface of the new CV iterators are different from that of this module. This module will be removed in 0.20.\n",
      "  \"This module will be removed in 0.20.\", DeprecationWarning)\n"
     ]
    }
   ],
   "source": [
    "from sklearn import datasets\n",
    "from sklearn.preprocessing import scale # Для масштабирования признаков\n",
    "from numpy import linspace\n",
    "from sklearn.neighbors import KNeighborsRegressor\n",
    "from sklearn.cross_validation import KFold, cross_val_score"
   ]
  },
  {
   "cell_type": "code",
   "execution_count": 75,
   "metadata": {},
   "outputs": [],
   "source": [
    "df = datasets.load_boston()"
   ]
  },
  {
   "cell_type": "code",
   "execution_count": 76,
   "metadata": {},
   "outputs": [],
   "source": [
    "# Признаки записаны в поле data, а целевой вектор — в поле target.\n",
    "X = df['data'] # Признаки\n",
    "y = df['target'] # Целевой вектор"
   ]
  },
  {
   "cell_type": "code",
   "execution_count": 77,
   "metadata": {},
   "outputs": [],
   "source": [
    "# Приводим признаки к одному масштабу\n",
    "X = scale(X)"
   ]
  },
  {
   "cell_type": "code",
   "execution_count": 78,
   "metadata": {},
   "outputs": [],
   "source": [
    "\"\"\"Переберите разные варианты параметра метрики p по сетке от 1 до\n",
    "10 с таким шагом, чтобы всего было протестировано 200 вариантов\"\"\"\n",
    "\n",
    "best_p = None\n",
    "best_score = None\n",
    "for p in linspace(1, 10, 200):\n",
    "    clf = KNeighborsRegressor(n_neighbors=5, weights='distance')\n",
    "    clf.fit(X, y)\n",
    "\n",
    "    kf = KFold(len(y), n_folds=5, random_state=42)\n",
    "    scores = cross_val_score(clf, X, y, cv=kf, scoring='neg_mean_squared_error')\n",
    "\n",
    "    if best_score is None or best_score < scores.mean():\n",
    "        best_p = p\n",
    "        best_score = scores.mean()"
   ]
  },
  {
   "cell_type": "code",
   "execution_count": 79,
   "metadata": {},
   "outputs": [
    {
     "name": "stdout",
     "output_type": "stream",
     "text": [
      "1.0\n"
     ]
    }
   ],
   "source": [
    "\"\"\"Определите, при каком p качество на кросс-валидации оказалось\n",
    "оптимальным\"\"\"\n",
    "print(best_p)"
   ]
  }
 ],
 "metadata": {
  "kernelspec": {
   "display_name": "Python 3",
   "language": "python",
   "name": "python3"
  },
  "language_info": {
   "codemirror_mode": {
    "name": "ipython",
    "version": 3
   },
   "file_extension": ".py",
   "mimetype": "text/x-python",
   "name": "python",
   "nbconvert_exporter": "python",
   "pygments_lexer": "ipython3",
   "version": "3.6.3"
  }
 },
 "nbformat": 4,
 "nbformat_minor": 1
}
